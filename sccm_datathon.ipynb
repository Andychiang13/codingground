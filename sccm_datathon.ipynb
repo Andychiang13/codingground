{
  "nbformat": 4,
  "nbformat_minor": 0,
  "metadata": {
    "colab": {
      "name": "sccm-datathon.ipynb",
      "provenance": [],
      "include_colab_link": true
    },
    "kernelspec": {
      "name": "python3",
      "display_name": "Python 3"
    }
  },
  "cells": [
    {
      "cell_type": "markdown",
      "metadata": {
        "id": "view-in-github",
        "colab_type": "text"
      },
      "source": [
        "<a href=\"https://colab.research.google.com/github/Andychiang13/codingground/blob/master/sccm_datathon.ipynb\" target=\"_parent\"><img src=\"https://colab.research.google.com/assets/colab-badge.svg\" alt=\"Open In Colab\"/></a>"
      ]
    },
    {
      "cell_type": "code",
      "metadata": {
        "id": "2O06ReBPhsc6",
        "colab_type": "code",
        "colab": {}
      },
      "source": [
        "# Import libraries\n",
        "import numpy as np\n",
        "import os\n",
        "import pandas as pd\n",
        "import matplotlib.pyplot as plt\n",
        "import matplotlib.patches as patches\n",
        "import matplotlib.path as path\n",
        "\n",
        "# Make pandas dataframes prettier\n",
        "from IPython.display import display, HTML\n",
        "\n",
        "# Access data using Google BigQuery.\n",
        "from google.colab import auth\n",
        "from google.cloud import bigquery"
      ],
      "execution_count": 0,
      "outputs": []
    },
    {
      "cell_type": "code",
      "metadata": {
        "id": "Qtfc5gg0hxg5",
        "colab_type": "code",
        "colab": {}
      },
      "source": [
        "auth.authenticate_user()"
      ],
      "execution_count": 0,
      "outputs": []
    },
    {
      "cell_type": "code",
      "metadata": {
        "id": "ZusudoYNhziE",
        "colab_type": "code",
        "colab": {}
      },
      "source": [
        "project_id='sccm-datathon'\n",
        "os.environ[\"GOOGLE_CLOUD_PROJECT\"]=project_id"
      ],
      "execution_count": 0,
      "outputs": []
    },
    {
      "cell_type": "code",
      "metadata": {
        "id": "TD6_osUbh1__",
        "colab_type": "code",
        "colab": {}
      },
      "source": [
        "%%bigquery ventilator\n",
        "\n",
        "SELECT *\n",
        "FROM `sccm-datathon.team3.ventilator_settings`\n"
      ],
      "execution_count": 0,
      "outputs": []
    },
    {
      "cell_type": "code",
      "metadata": {
        "id": "q71LuL-rm7Id",
        "colab_type": "code",
        "outputId": "edeac6f5-7ff8-463b-f525-2d1eee6dcbf8",
        "colab": {
          "base_uri": "https://localhost:8080/",
          "height": 104
        }
      },
      "source": [
        "ventilator.o2_delivery_device.unique()"
      ],
      "execution_count": 0,
      "outputs": [
        {
          "output_type": "execute_result",
          "data": {
            "text/plain": [
              "array([None, 'None', 'Nasal Cannula', 'Non-Rebreather', 'Face Tent',\n",
              "       'Hi Flow Neb', 'Aerosol-Cool', 'Ventilator', 'Venti Mask',\n",
              "       'Trach Mask', 'Cannula', 'Other/Remarks', 'T-Piece', 'Bipap Mask',\n",
              "       'Medium Conc Mask', 'Hut', 'CPAP Mask', 'Hood', 'Vapotherm',\n",
              "       'Heated Neb', 'Ultrasonic Neb', 'TranstrachealCat'], dtype=object)"
            ]
          },
          "metadata": {
            "tags": []
          },
          "execution_count": 8
        }
      ]
    },
    {
      "cell_type": "code",
      "metadata": {
        "id": "zUjobrm5q6wv",
        "colab_type": "code",
        "outputId": "9427e49d-f438-4a4d-92a8-af859caa42eb",
        "colab": {
          "base_uri": "https://localhost:8080/",
          "height": 87
        }
      },
      "source": [
        "ventilator.o2_delivery_device_2.unique()"
      ],
      "execution_count": 0,
      "outputs": [
        {
          "output_type": "execute_result",
          "data": {
            "text/plain": [
              "array([None, 'Face Tent', 'Nasal Cannula', 'Non-Rebreather', 'None',\n",
              "       'Medium Conc Mask', 'Aerosol-Cool', 'Trach Mask', 'Hi Flow Neb',\n",
              "       'CPAP Mask', 'T-Piece', 'Other/Remarks', 'Venti Mask',\n",
              "       'Bipap Mask', 'TranstrachealCat', 'Heated Neb'], dtype=object)"
            ]
          },
          "metadata": {
            "tags": []
          },
          "execution_count": 22
        }
      ]
    },
    {
      "cell_type": "code",
      "metadata": {
        "id": "jxGqDoubsoho",
        "colab_type": "code",
        "outputId": "c3e0d131-6d5b-45b4-b99a-e5e4f6d25294",
        "colab": {
          "base_uri": "https://localhost:8080/",
          "height": 34
        }
      },
      "source": [
        "ventilator.o2_delivery_device_2[ventilator.o2_delivery_device=='Ventilator'].unique()"
      ],
      "execution_count": 0,
      "outputs": [
        {
          "output_type": "execute_result",
          "data": {
            "text/plain": [
              "array([None], dtype=object)"
            ]
          },
          "metadata": {
            "tags": []
          },
          "execution_count": 26
        }
      ]
    },
    {
      "cell_type": "code",
      "metadata": {
        "id": "T3KXF5MBrYIP",
        "colab_type": "code",
        "outputId": "41e6149f-2ca2-446a-e6a7-e6fc41e3da67",
        "colab": {
          "base_uri": "https://localhost:8080/",
          "height": 209
        }
      },
      "source": [
        "ventilator.ventmode.unique()"
      ],
      "execution_count": 0,
      "outputs": [
        {
          "output_type": "execute_result",
          "data": {
            "text/plain": [
              "array([None, 'Assist Control', 'CPAP+PS', 'Other/Remarks', 'SIMV+PS',\n",
              "       'CPAP/PSV', 'SIMV/PSV/AutoFlow', 'CMV/ASSIST/AutoFlow',\n",
              "       'CMV/ASSIST', 'Standby', 'MMV/PSV', 'MMV/PSV/AutoFlow', 'CPAP',\n",
              "       'APRV', 'Pressure Control', 'PSV/SBT', 'Pressure Support', 'CMV',\n",
              "       'PCV+Assist', 'PCV+/PSV', 'PCV+', 'SIMV', 'MMV/AutoFlow',\n",
              "       'CPAP/PSV+ApnPres', 'TCPCV', 'VOL/AC', 'CPAP/PPS', 'MMV',\n",
              "       'CMV/AutoFlow', 'PRVC/AC', 'SIMV/PSV', 'APRV/Biphasic+ApnVol',\n",
              "       'CPAP/PSV+ApnVol', 'PRES/AC', 'SIMV/PRES', 'SIMV/AutoFlow',\n",
              "       'Apnea Ventilation', 'SIMV/VOL', 'PRVC/SIMV', 'SYNCHRON MASTER',\n",
              "       'CPAP/PSV+Apn TCPL', 'SYNCHRON SLAVE', 'APRV/Biphasic+ApnPress'],\n",
              "      dtype=object)"
            ]
          },
          "metadata": {
            "tags": []
          },
          "execution_count": 23
        }
      ]
    },
    {
      "cell_type": "code",
      "metadata": {
        "id": "d2JcV0VLnKM1",
        "colab_type": "code",
        "outputId": "59855345-7d81-4681-8874-24696992003f",
        "colab": {
          "base_uri": "https://localhost:8080/",
          "height": 34
        }
      },
      "source": [
        "ventilator.plateau_pressure.max(),ventilator.plateau_pressure.min()"
      ],
      "execution_count": 0,
      "outputs": [
        {
          "output_type": "execute_result",
          "data": {
            "text/plain": [
              "(247.0, 0.0)"
            ]
          },
          "metadata": {
            "tags": []
          },
          "execution_count": 19
        }
      ]
    },
    {
      "cell_type": "code",
      "metadata": {
        "id": "HvJnWT8aqS8l",
        "colab_type": "code",
        "outputId": "6ba7973a-0f82-4ed1-fdc8-a5c0ce46798c",
        "colab": {
          "base_uri": "https://localhost:8080/",
          "height": 34
        }
      },
      "source": [
        "ventilator.ventmode.isnull().sum()"
      ],
      "execution_count": 0,
      "outputs": [
        {
          "output_type": "execute_result",
          "data": {
            "text/plain": [
              "1617708"
            ]
          },
          "metadata": {
            "tags": []
          },
          "execution_count": 38
        }
      ]
    },
    {
      "cell_type": "code",
      "metadata": {
        "id": "BJf3AWaTIU5M",
        "colab_type": "code",
        "outputId": "e4fc32ce-7212-46c8-b9e5-de23218eac6c",
        "colab": {
          "base_uri": "https://localhost:8080/",
          "height": 227
        }
      },
      "source": [
        "demo.icu_mortality"
      ],
      "execution_count": 0,
      "outputs": [
        {
          "output_type": "execute_result",
          "data": {
            "text/plain": [
              "0         41.617\n",
              "1          8.133\n",
              "2         91.283\n",
              "3          6.517\n",
              "4          4.633\n",
              "          ...   \n",
              "61527    215.233\n",
              "61528     81.600\n",
              "61529     19.817\n",
              "61530    223.450\n",
              "61531    579.817\n",
              "Name: icu_los_hours, Length: 61532, dtype: float64"
            ]
          },
          "metadata": {
            "tags": []
          },
          "execution_count": 48
        }
      ]
    },
    {
      "cell_type": "code",
      "metadata": {
        "id": "Fa1IC4W_Jrka",
        "colab_type": "code",
        "colab": {}
      },
      "source": [
        "%%bigquery cohort\n",
        "\n",
        "SELECT * \n",
        "FROM `sccm-datathon.team3.cohort`\n",
        "order by icustay_id"
      ],
      "execution_count": 0,
      "outputs": []
    },
    {
      "cell_type": "markdown",
      "metadata": {
        "id": "cwBbDb0fQbY9",
        "colab_type": "text"
      },
      "source": [
        "Patient number after exclusion and inclusion criteria (TBI and CVA)"
      ]
    },
    {
      "cell_type": "code",
      "metadata": {
        "id": "Dvmk9zvdNXmO",
        "colab_type": "code",
        "outputId": "1bed91d8-f2f9-4e4c-9e86-5f55ae46ee86",
        "colab": {
          "base_uri": "https://localhost:8080/",
          "height": 227
        }
      },
      "source": [
        "data_icustay_id_bl=(cohort.exclusion_bad_data==0)&(cohort.exclusion_non_adults==0)&(cohort.exclusion_non_stroke_or_tbi==0)&(cohort.exclusion_ventilated_lt_24hours==0)&((cohort.stroke==1)|(cohort.tbi==1))\n",
        "data_icustay_id=cohort.icustay_id[data_icustay_id_bl]\n",
        "data_icustay_id"
      ],
      "execution_count": 0,
      "outputs": [
        {
          "output_type": "execute_result",
          "data": {
            "text/plain": [
              "12       200019\n",
              "113      200166\n",
              "139      200208\n",
              "163      200249\n",
              "187      200290\n",
              "          ...  \n",
              "61071    299247\n",
              "61289    299609\n",
              "61385    299760\n",
              "61414    299806\n",
              "61499    299949\n",
              "Name: icustay_id, Length: 1350, dtype: int64"
            ]
          },
          "metadata": {
            "tags": []
          },
          "execution_count": 61
        }
      ]
    },
    {
      "cell_type": "code",
      "metadata": {
        "id": "7ADMsA-S-dC0",
        "colab_type": "code",
        "outputId": "6f34dcb8-6393-4e57-c013-cd68bf172bab",
        "colab": {
          "base_uri": "https://localhost:8080/",
          "height": 34
        }
      },
      "source": [
        "np.sum(cohort.exclusion_secondary_stay)"
      ],
      "execution_count": 0,
      "outputs": [
        {
          "output_type": "execute_result",
          "data": {
            "text/plain": [
              "32.0"
            ]
          },
          "metadata": {
            "tags": []
          },
          "execution_count": 53
        }
      ]
    },
    {
      "cell_type": "code",
      "metadata": {
        "id": "htcd-76f8mJc",
        "colab_type": "code",
        "colab": {}
      },
      "source": [
        "%%bigquery demo\n",
        "\n",
        "SELECT *\n",
        "FROM `sccm-datathon.team3.demographics`\n",
        "order by icustay_id"
      ],
      "execution_count": 0,
      "outputs": []
    },
    {
      "cell_type": "code",
      "metadata": {
        "id": "2Q__NCgZY2M1",
        "colab_type": "code",
        "outputId": "4197ff20-9827-41a6-a1d5-18eaf47845c1",
        "colab": {
          "base_uri": "https://localhost:8080/",
          "height": 227
        }
      },
      "source": [
        "demo.vent_endoffset"
      ],
      "execution_count": 0,
      "outputs": [
        {
          "output_type": "execute_result",
          "data": {
            "text/plain": [
              "0           NaN\n",
              "1        6790.0\n",
              "2         982.0\n",
              "3           NaN\n",
              "4        1406.0\n",
              "          ...  \n",
              "61527       NaN\n",
              "61528    6984.0\n",
              "61529     841.0\n",
              "61530     906.0\n",
              "61531     792.0\n",
              "Name: vent_endoffset, Length: 61532, dtype: float64"
            ]
          },
          "metadata": {
            "tags": []
          },
          "execution_count": 55
        }
      ]
    },
    {
      "cell_type": "code",
      "metadata": {
        "id": "CvMZuO2eRLaT",
        "colab_type": "code",
        "outputId": "ba20cfe2-93b0-4740-a127-9eb6d7af63a9",
        "colab": {
          "base_uri": "https://localhost:8080/",
          "height": 1000
        }
      },
      "source": [
        "demo_extract = demo[['icustay_id','tbi','stroke','icu_mortality','hospital_mortality','thirty_day_mortality','ninety_day_mortality']]\n",
        "demo_extract['hosp_los_days'] = demo.hosp_los_hours/24\n",
        "demo_extract['icu_los_days'] = demo['icu_los_hours']/24\n",
        "demo_extract['vent_duration_days'] = (demo['vent_endoffset'] - demo['vent_startoffset'])/60/24\n",
        "demo_extract['vent_free_days'] = demo['hosp_los_hours']/24 - demo_extract['vent_duration_days']\n",
        "\n",
        "demo_final = demo_extract[data_icustay_id_bl]\n",
        "demo"
      ],
      "execution_count": 0,
      "outputs": [
        {
          "output_type": "stream",
          "text": [
            "/usr/local/lib/python3.6/dist-packages/ipykernel_launcher.py:2: SettingWithCopyWarning: \n",
            "A value is trying to be set on a copy of a slice from a DataFrame.\n",
            "Try using .loc[row_indexer,col_indexer] = value instead\n",
            "\n",
            "See the caveats in the documentation: http://pandas.pydata.org/pandas-docs/stable/user_guide/indexing.html#returning-a-view-versus-a-copy\n",
            "  \n",
            "/usr/local/lib/python3.6/dist-packages/ipykernel_launcher.py:3: SettingWithCopyWarning: \n",
            "A value is trying to be set on a copy of a slice from a DataFrame.\n",
            "Try using .loc[row_indexer,col_indexer] = value instead\n",
            "\n",
            "See the caveats in the documentation: http://pandas.pydata.org/pandas-docs/stable/user_guide/indexing.html#returning-a-view-versus-a-copy\n",
            "  This is separate from the ipykernel package so we can avoid doing imports until\n",
            "/usr/local/lib/python3.6/dist-packages/ipykernel_launcher.py:4: SettingWithCopyWarning: \n",
            "A value is trying to be set on a copy of a slice from a DataFrame.\n",
            "Try using .loc[row_indexer,col_indexer] = value instead\n",
            "\n",
            "See the caveats in the documentation: http://pandas.pydata.org/pandas-docs/stable/user_guide/indexing.html#returning-a-view-versus-a-copy\n",
            "  after removing the cwd from sys.path.\n",
            "/usr/local/lib/python3.6/dist-packages/ipykernel_launcher.py:5: SettingWithCopyWarning: \n",
            "A value is trying to be set on a copy of a slice from a DataFrame.\n",
            "Try using .loc[row_indexer,col_indexer] = value instead\n",
            "\n",
            "See the caveats in the documentation: http://pandas.pydata.org/pandas-docs/stable/user_guide/indexing.html#returning-a-view-versus-a-copy\n",
            "  \"\"\"\n"
          ],
          "name": "stderr"
        },
        {
          "output_type": "execute_result",
          "data": {
            "text/html": [
              "<div>\n",
              "<style scoped>\n",
              "    .dataframe tbody tr th:only-of-type {\n",
              "        vertical-align: middle;\n",
              "    }\n",
              "\n",
              "    .dataframe tbody tr th {\n",
              "        vertical-align: top;\n",
              "    }\n",
              "\n",
              "    .dataframe thead th {\n",
              "        text-align: right;\n",
              "    }\n",
              "</style>\n",
              "<table border=\"1\" class=\"dataframe\">\n",
              "  <thead>\n",
              "    <tr style=\"text-align: right;\">\n",
              "      <th></th>\n",
              "      <th>subject_id</th>\n",
              "      <th>hadm_id</th>\n",
              "      <th>icustay_id</th>\n",
              "      <th>tbi</th>\n",
              "      <th>stroke</th>\n",
              "      <th>intime</th>\n",
              "      <th>intime_offset</th>\n",
              "      <th>outtime_offset</th>\n",
              "      <th>stay_number</th>\n",
              "      <th>admission_location</th>\n",
              "      <th>discharge_location</th>\n",
              "      <th>pre_icu_los_hours</th>\n",
              "      <th>icu_los_hours</th>\n",
              "      <th>icu_mortality</th>\n",
              "      <th>hosp_los_hours</th>\n",
              "      <th>hospital_mortality</th>\n",
              "      <th>thirty_day_mortality</th>\n",
              "      <th>ninety_day_mortality</th>\n",
              "      <th>age</th>\n",
              "      <th>service</th>\n",
              "      <th>gender</th>\n",
              "      <th>weight_kg</th>\n",
              "      <th>height_cm</th>\n",
              "      <th>ethnicity</th>\n",
              "      <th>oasis</th>\n",
              "      <th>oasis_prob</th>\n",
              "      <th>apsiii</th>\n",
              "      <th>apsiii_prob</th>\n",
              "      <th>vent_startoffset</th>\n",
              "      <th>vent_endoffset</th>\n",
              "    </tr>\n",
              "  </thead>\n",
              "  <tbody>\n",
              "    <tr>\n",
              "      <th>0</th>\n",
              "      <td>55973</td>\n",
              "      <td>152234</td>\n",
              "      <td>200001</td>\n",
              "      <td>0</td>\n",
              "      <td>0</td>\n",
              "      <td>2181-11-25 19:06:12</td>\n",
              "      <td>0</td>\n",
              "      <td>4433.0</td>\n",
              "      <td>6</td>\n",
              "      <td>CLINIC REFERRAL/PREMATURE</td>\n",
              "      <td>SNF</td>\n",
              "      <td>171.033</td>\n",
              "      <td>73.883</td>\n",
              "      <td>0</td>\n",
              "      <td>381.633</td>\n",
              "      <td>0</td>\n",
              "      <td>0</td>\n",
              "      <td>0</td>\n",
              "      <td>61.0499</td>\n",
              "      <td>MED</td>\n",
              "      <td>F</td>\n",
              "      <td>61</td>\n",
              "      <td>170.18</td>\n",
              "      <td>asian</td>\n",
              "      <td>39</td>\n",
              "      <td>0.231102</td>\n",
              "      <td>63</td>\n",
              "      <td>0.188678</td>\n",
              "      <td>NaN</td>\n",
              "      <td>NaN</td>\n",
              "    </tr>\n",
              "    <tr>\n",
              "      <th>1</th>\n",
              "      <td>27513</td>\n",
              "      <td>163557</td>\n",
              "      <td>200003</td>\n",
              "      <td>0</td>\n",
              "      <td>0</td>\n",
              "      <td>2199-08-02 19:50:04</td>\n",
              "      <td>0</td>\n",
              "      <td>8479.0</td>\n",
              "      <td>1</td>\n",
              "      <td>PHYS REFERRAL/NORMAL DELI</td>\n",
              "      <td>HOME HEALTH CARE</td>\n",
              "      <td>2.800</td>\n",
              "      <td>141.317</td>\n",
              "      <td>0</td>\n",
              "      <td>481.967</td>\n",
              "      <td>0</td>\n",
              "      <td>0</td>\n",
              "      <td>1</td>\n",
              "      <td>48.2940</td>\n",
              "      <td>SURG</td>\n",
              "      <td>M</td>\n",
              "      <td>77</td>\n",
              "      <td>None</td>\n",
              "      <td>white</td>\n",
              "      <td>35</td>\n",
              "      <td>0.152892</td>\n",
              "      <td>48</td>\n",
              "      <td>0.102705</td>\n",
              "      <td>1330.0</td>\n",
              "      <td>6790.0</td>\n",
              "    </tr>\n",
              "    <tr>\n",
              "      <th>2</th>\n",
              "      <td>10950</td>\n",
              "      <td>189514</td>\n",
              "      <td>200006</td>\n",
              "      <td>0</td>\n",
              "      <td>0</td>\n",
              "      <td>2159-09-03 11:28:14</td>\n",
              "      <td>0</td>\n",
              "      <td>1900.0</td>\n",
              "      <td>3</td>\n",
              "      <td>EMERGENCY ROOM ADMIT</td>\n",
              "      <td>HOME</td>\n",
              "      <td>0.017</td>\n",
              "      <td>31.667</td>\n",
              "      <td>0</td>\n",
              "      <td>55.300</td>\n",
              "      <td>0</td>\n",
              "      <td>0</td>\n",
              "      <td>0</td>\n",
              "      <td>54.0710</td>\n",
              "      <td>MED</td>\n",
              "      <td>M</td>\n",
              "      <td>82.4</td>\n",
              "      <td>None</td>\n",
              "      <td>other</td>\n",
              "      <td>32</td>\n",
              "      <td>0.109623</td>\n",
              "      <td>23</td>\n",
              "      <td>0.033927</td>\n",
              "      <td>92.0</td>\n",
              "      <td>982.0</td>\n",
              "    </tr>\n",
              "    <tr>\n",
              "      <th>3</th>\n",
              "      <td>20707</td>\n",
              "      <td>129310</td>\n",
              "      <td>200007</td>\n",
              "      <td>0</td>\n",
              "      <td>0</td>\n",
              "      <td>2109-02-17 10:03:37</td>\n",
              "      <td>0</td>\n",
              "      <td>1860.0</td>\n",
              "      <td>1</td>\n",
              "      <td>EMERGENCY ROOM ADMIT</td>\n",
              "      <td>HOME</td>\n",
              "      <td>0.017</td>\n",
              "      <td>31.000</td>\n",
              "      <td>0</td>\n",
              "      <td>77.750</td>\n",
              "      <td>0</td>\n",
              "      <td>0</td>\n",
              "      <td>0</td>\n",
              "      <td>43.3439</td>\n",
              "      <td>CMED</td>\n",
              "      <td>M</td>\n",
              "      <td>126</td>\n",
              "      <td>177.8</td>\n",
              "      <td>white</td>\n",
              "      <td>26</td>\n",
              "      <td>0.054187</td>\n",
              "      <td>33</td>\n",
              "      <td>0.053332</td>\n",
              "      <td>NaN</td>\n",
              "      <td>NaN</td>\n",
              "    </tr>\n",
              "    <tr>\n",
              "      <th>4</th>\n",
              "      <td>29904</td>\n",
              "      <td>129607</td>\n",
              "      <td>200009</td>\n",
              "      <td>0</td>\n",
              "      <td>0</td>\n",
              "      <td>2189-11-30 10:34:32</td>\n",
              "      <td>0</td>\n",
              "      <td>3103.0</td>\n",
              "      <td>1</td>\n",
              "      <td>PHYS REFERRAL/NORMAL DELI</td>\n",
              "      <td>HOME HEALTH CARE</td>\n",
              "      <td>-0.183</td>\n",
              "      <td>51.717</td>\n",
              "      <td>0</td>\n",
              "      <td>148.250</td>\n",
              "      <td>0</td>\n",
              "      <td>0</td>\n",
              "      <td>0</td>\n",
              "      <td>47.5548</td>\n",
              "      <td>CSURG</td>\n",
              "      <td>F</td>\n",
              "      <td>78.2</td>\n",
              "      <td>160.02</td>\n",
              "      <td>white</td>\n",
              "      <td>25</td>\n",
              "      <td>0.048012</td>\n",
              "      <td>26</td>\n",
              "      <td>0.038894</td>\n",
              "      <td>456.0</td>\n",
              "      <td>1406.0</td>\n",
              "    </tr>\n",
              "    <tr>\n",
              "      <th>...</th>\n",
              "      <td>...</td>\n",
              "      <td>...</td>\n",
              "      <td>...</td>\n",
              "      <td>...</td>\n",
              "      <td>...</td>\n",
              "      <td>...</td>\n",
              "      <td>...</td>\n",
              "      <td>...</td>\n",
              "      <td>...</td>\n",
              "      <td>...</td>\n",
              "      <td>...</td>\n",
              "      <td>...</td>\n",
              "      <td>...</td>\n",
              "      <td>...</td>\n",
              "      <td>...</td>\n",
              "      <td>...</td>\n",
              "      <td>...</td>\n",
              "      <td>...</td>\n",
              "      <td>...</td>\n",
              "      <td>...</td>\n",
              "      <td>...</td>\n",
              "      <td>...</td>\n",
              "      <td>...</td>\n",
              "      <td>...</td>\n",
              "      <td>...</td>\n",
              "      <td>...</td>\n",
              "      <td>...</td>\n",
              "      <td>...</td>\n",
              "      <td>...</td>\n",
              "      <td>...</td>\n",
              "    </tr>\n",
              "    <tr>\n",
              "      <th>61527</th>\n",
              "      <td>13620</td>\n",
              "      <td>169431</td>\n",
              "      <td>299993</td>\n",
              "      <td>0</td>\n",
              "      <td>0</td>\n",
              "      <td>2149-11-13 21:01:05</td>\n",
              "      <td>0</td>\n",
              "      <td>4076.0</td>\n",
              "      <td>1</td>\n",
              "      <td>TRANSFER FROM HOSP/EXTRAM</td>\n",
              "      <td>HOME</td>\n",
              "      <td>0.017</td>\n",
              "      <td>67.933</td>\n",
              "      <td>0</td>\n",
              "      <td>353.500</td>\n",
              "      <td>0</td>\n",
              "      <td>0</td>\n",
              "      <td>0</td>\n",
              "      <td>26.2264</td>\n",
              "      <td>SURG</td>\n",
              "      <td>M</td>\n",
              "      <td>None</td>\n",
              "      <td>None</td>\n",
              "      <td>white</td>\n",
              "      <td>23</td>\n",
              "      <td>0.037612</td>\n",
              "      <td>27</td>\n",
              "      <td>0.040700</td>\n",
              "      <td>NaN</td>\n",
              "      <td>NaN</td>\n",
              "    </tr>\n",
              "    <tr>\n",
              "      <th>61528</th>\n",
              "      <td>10718</td>\n",
              "      <td>177406</td>\n",
              "      <td>299994</td>\n",
              "      <td>0</td>\n",
              "      <td>0</td>\n",
              "      <td>2114-12-09 11:56:00</td>\n",
              "      <td>0</td>\n",
              "      <td>9153.0</td>\n",
              "      <td>2</td>\n",
              "      <td>CLINIC REFERRAL/PREMATURE</td>\n",
              "      <td>HOME HEALTH CARE</td>\n",
              "      <td>137.817</td>\n",
              "      <td>152.550</td>\n",
              "      <td>0</td>\n",
              "      <td>550.133</td>\n",
              "      <td>0</td>\n",
              "      <td>0</td>\n",
              "      <td>0</td>\n",
              "      <td>74.2165</td>\n",
              "      <td>MED</td>\n",
              "      <td>F</td>\n",
              "      <td>72.6</td>\n",
              "      <td>157.48</td>\n",
              "      <td>white</td>\n",
              "      <td>30</td>\n",
              "      <td>0.087098</td>\n",
              "      <td>43</td>\n",
              "      <td>0.082882</td>\n",
              "      <td>4429.0</td>\n",
              "      <td>6984.0</td>\n",
              "    </tr>\n",
              "    <tr>\n",
              "      <th>61529</th>\n",
              "      <td>28775</td>\n",
              "      <td>134959</td>\n",
              "      <td>299995</td>\n",
              "      <td>0</td>\n",
              "      <td>0</td>\n",
              "      <td>2116-03-04 17:44:39</td>\n",
              "      <td>0</td>\n",
              "      <td>2899.0</td>\n",
              "      <td>1</td>\n",
              "      <td>EMERGENCY ROOM ADMIT</td>\n",
              "      <td>HOME</td>\n",
              "      <td>0.017</td>\n",
              "      <td>48.317</td>\n",
              "      <td>0</td>\n",
              "      <td>70.283</td>\n",
              "      <td>0</td>\n",
              "      <td>0</td>\n",
              "      <td>0</td>\n",
              "      <td>23.3763</td>\n",
              "      <td>NMED</td>\n",
              "      <td>M</td>\n",
              "      <td>70.4</td>\n",
              "      <td>None</td>\n",
              "      <td>white</td>\n",
              "      <td>34</td>\n",
              "      <td>0.137099</td>\n",
              "      <td>26</td>\n",
              "      <td>0.038894</td>\n",
              "      <td>76.0</td>\n",
              "      <td>841.0</td>\n",
              "    </tr>\n",
              "    <tr>\n",
              "      <th>61530</th>\n",
              "      <td>69587</td>\n",
              "      <td>158288</td>\n",
              "      <td>299998</td>\n",
              "      <td>0</td>\n",
              "      <td>0</td>\n",
              "      <td>2181-07-05 18:47:40</td>\n",
              "      <td>0</td>\n",
              "      <td>2797.0</td>\n",
              "      <td>1</td>\n",
              "      <td>PHYS REFERRAL/NORMAL DELI</td>\n",
              "      <td>REHAB/DISTINCT PART HOSP</td>\n",
              "      <td>11.533</td>\n",
              "      <td>46.617</td>\n",
              "      <td>0</td>\n",
              "      <td>704.800</td>\n",
              "      <td>0</td>\n",
              "      <td>0</td>\n",
              "      <td>0</td>\n",
              "      <td>86.9560</td>\n",
              "      <td>GU</td>\n",
              "      <td>M</td>\n",
              "      <td>90</td>\n",
              "      <td>None</td>\n",
              "      <td>white</td>\n",
              "      <td>32</td>\n",
              "      <td>0.109623</td>\n",
              "      <td>22</td>\n",
              "      <td>0.032412</td>\n",
              "      <td>13.0</td>\n",
              "      <td>906.0</td>\n",
              "    </tr>\n",
              "    <tr>\n",
              "      <th>61531</th>\n",
              "      <td>7630</td>\n",
              "      <td>129161</td>\n",
              "      <td>299999</td>\n",
              "      <td>0</td>\n",
              "      <td>0</td>\n",
              "      <td>2117-08-31 09:33:11</td>\n",
              "      <td>0</td>\n",
              "      <td>1869.0</td>\n",
              "      <td>1</td>\n",
              "      <td>PHYS REFERRAL/NORMAL DELI</td>\n",
              "      <td>HOME HEALTH CARE</td>\n",
              "      <td>1.550</td>\n",
              "      <td>31.150</td>\n",
              "      <td>0</td>\n",
              "      <td>101.333</td>\n",
              "      <td>0</td>\n",
              "      <td>0</td>\n",
              "      <td>0</td>\n",
              "      <td>48.7321</td>\n",
              "      <td>CSURG</td>\n",
              "      <td>M</td>\n",
              "      <td>80.6</td>\n",
              "      <td>172.72</td>\n",
              "      <td>white</td>\n",
              "      <td>23</td>\n",
              "      <td>0.037612</td>\n",
              "      <td>28</td>\n",
              "      <td>0.042586</td>\n",
              "      <td>657.0</td>\n",
              "      <td>792.0</td>\n",
              "    </tr>\n",
              "  </tbody>\n",
              "</table>\n",
              "<p>61532 rows × 30 columns</p>\n",
              "</div>"
            ],
            "text/plain": [
              "       subject_id  hadm_id  ...  vent_startoffset  vent_endoffset\n",
              "0           55973   152234  ...               NaN             NaN\n",
              "1           27513   163557  ...            1330.0          6790.0\n",
              "2           10950   189514  ...              92.0           982.0\n",
              "3           20707   129310  ...               NaN             NaN\n",
              "4           29904   129607  ...             456.0          1406.0\n",
              "...           ...      ...  ...               ...             ...\n",
              "61527       13620   169431  ...               NaN             NaN\n",
              "61528       10718   177406  ...            4429.0          6984.0\n",
              "61529       28775   134959  ...              76.0           841.0\n",
              "61530       69587   158288  ...              13.0           906.0\n",
              "61531        7630   129161  ...             657.0           792.0\n",
              "\n",
              "[61532 rows x 30 columns]"
            ]
          },
          "metadata": {
            "tags": []
          },
          "execution_count": 63
        }
      ]
    },
    {
      "cell_type": "code",
      "metadata": {
        "id": "6IdL2kpzl20H",
        "colab_type": "code",
        "colab": {}
      },
      "source": [
        "demo_final.to_csv('outcome_table_no_gcs.csv')"
      ],
      "execution_count": 0,
      "outputs": []
    },
    {
      "cell_type": "code",
      "metadata": {
        "id": "RazA5gu-ewyW",
        "colab_type": "code",
        "outputId": "d5ff4468-2787-450f-de07-ac87144534f4",
        "colab": {
          "base_uri": "https://localhost:8080/",
          "height": 87
        }
      },
      "source": [
        "demo_final.columns"
      ],
      "execution_count": 0,
      "outputs": [
        {
          "output_type": "execute_result",
          "data": {
            "text/plain": [
              "Index(['icustay_id', 'tbi', 'stroke', 'icu_mortality', 'hospital_mortality',\n",
              "       'thirty_day_mortality', 'ninety_day_mortality', 'icu_los_days',\n",
              "       'vent_duration_days', 'vent_free_days'],\n",
              "      dtype='object')"
            ]
          },
          "metadata": {
            "tags": []
          },
          "execution_count": 58
        }
      ]
    },
    {
      "cell_type": "code",
      "metadata": {
        "id": "IfvoHfbW7qvx",
        "colab_type": "code",
        "outputId": "d3cc3d91-2acd-4591-a5a0-f55100f1c6de",
        "colab": {
          "base_uri": "https://localhost:8080/",
          "height": 244
        }
      },
      "source": [
        "# install and import tableone\n",
        "!pip install tableone\n",
        "from tableone import TableOne"
      ],
      "execution_count": 0,
      "outputs": [
        {
          "output_type": "stream",
          "text": [
            "Collecting tableone\n",
            "  Downloading https://files.pythonhosted.org/packages/f2/72/df127c2b5b202fadf2db463783f419a441415399930ab106289d1b695eb5/tableone-0.6.6-py2.py3-none-any.whl\n",
            "Requirement already satisfied: scipy>=0.18.1 in /usr/local/lib/python3.6/dist-packages (from tableone) (1.4.1)\n",
            "Requirement already satisfied: numpy>=1.12.1 in /usr/local/lib/python3.6/dist-packages (from tableone) (1.17.5)\n",
            "Requirement already satisfied: statsmodels>=0.8.0 in /usr/local/lib/python3.6/dist-packages (from tableone) (0.10.2)\n",
            "Requirement already satisfied: tabulate>=0.8.2 in /usr/local/lib/python3.6/dist-packages (from tableone) (0.8.6)\n",
            "Requirement already satisfied: pandas>=0.22.0 in /usr/local/lib/python3.6/dist-packages (from tableone) (0.25.3)\n",
            "Requirement already satisfied: patsy>=0.4.0 in /usr/local/lib/python3.6/dist-packages (from statsmodels>=0.8.0->tableone) (0.5.1)\n",
            "Requirement already satisfied: python-dateutil>=2.6.1 in /usr/local/lib/python3.6/dist-packages (from pandas>=0.22.0->tableone) (2.6.1)\n",
            "Requirement already satisfied: pytz>=2017.2 in /usr/local/lib/python3.6/dist-packages (from pandas>=0.22.0->tableone) (2018.9)\n",
            "Requirement already satisfied: six in /usr/local/lib/python3.6/dist-packages (from patsy>=0.4.0->statsmodels>=0.8.0->tableone) (1.12.0)\n",
            "Installing collected packages: tableone\n",
            "Successfully installed tableone-0.6.6\n"
          ],
          "name": "stdout"
        }
      ]
    },
    {
      "cell_type": "code",
      "metadata": {
        "id": "EE-PG7VzeACr",
        "colab_type": "code",
        "outputId": "6cb7de55-f5af-4bbd-f2d5-a3bfd1b1dc04",
        "colab": {
          "base_uri": "https://localhost:8080/",
          "height": 483
        }
      },
      "source": [
        "columns = ['icu_mortality', 'hospital_mortality',\n",
        "       'thirty_day_mortality', 'ninety_day_mortality', 'icu_los_days',\n",
        "       'vent_duration_days', 'vent_free_days','hosp_los_days']\n",
        "\n",
        "groupby = 'tbi'\n",
        "\n",
        "pval = False\n",
        "\n",
        "categorical = ['icu_mortality', 'hospital_mortality',\n",
        "       'thirty_day_mortality', 'ninety_day_mortality']\n",
        "\n",
        "t = TableOne(demo_final, columns=columns, categorical=categorical, groupby=groupby, pval=pval)\n",
        "t.tableone"
      ],
      "execution_count": 0,
      "outputs": [
        {
          "output_type": "execute_result",
          "data": {
            "text/html": [
              "<div>\n",
              "<style scoped>\n",
              "    .dataframe tbody tr th:only-of-type {\n",
              "        vertical-align: middle;\n",
              "    }\n",
              "\n",
              "    .dataframe tbody tr th {\n",
              "        vertical-align: top;\n",
              "    }\n",
              "\n",
              "    .dataframe thead tr th {\n",
              "        text-align: left;\n",
              "    }\n",
              "</style>\n",
              "<table border=\"1\" class=\"dataframe\">\n",
              "  <thead>\n",
              "    <tr>\n",
              "      <th></th>\n",
              "      <th></th>\n",
              "      <th colspan=\"3\" halign=\"left\">Grouped by tbi</th>\n",
              "    </tr>\n",
              "    <tr>\n",
              "      <th></th>\n",
              "      <th></th>\n",
              "      <th>Missing</th>\n",
              "      <th>0</th>\n",
              "      <th>1</th>\n",
              "    </tr>\n",
              "  </thead>\n",
              "  <tbody>\n",
              "    <tr>\n",
              "      <th>n</th>\n",
              "      <th></th>\n",
              "      <td></td>\n",
              "      <td>809</td>\n",
              "      <td>541</td>\n",
              "    </tr>\n",
              "    <tr>\n",
              "      <th rowspan=\"2\" valign=\"top\">icu_mortality</th>\n",
              "      <th>0</th>\n",
              "      <td>0</td>\n",
              "      <td>512 (63.3)</td>\n",
              "      <td>400 (73.9)</td>\n",
              "    </tr>\n",
              "    <tr>\n",
              "      <th>1</th>\n",
              "      <td></td>\n",
              "      <td>297 (36.7)</td>\n",
              "      <td>141 (26.1)</td>\n",
              "    </tr>\n",
              "    <tr>\n",
              "      <th rowspan=\"2\" valign=\"top\">hospital_mortality</th>\n",
              "      <th>0</th>\n",
              "      <td>0</td>\n",
              "      <td>408 (50.4)</td>\n",
              "      <td>346 (64.0)</td>\n",
              "    </tr>\n",
              "    <tr>\n",
              "      <th>1</th>\n",
              "      <td></td>\n",
              "      <td>401 (49.6)</td>\n",
              "      <td>195 (36.0)</td>\n",
              "    </tr>\n",
              "    <tr>\n",
              "      <th rowspan=\"2\" valign=\"top\">thirty_day_mortality</th>\n",
              "      <th>0</th>\n",
              "      <td>0</td>\n",
              "      <td>389 (48.1)</td>\n",
              "      <td>337 (62.3)</td>\n",
              "    </tr>\n",
              "    <tr>\n",
              "      <th>1</th>\n",
              "      <td></td>\n",
              "      <td>420 (51.9)</td>\n",
              "      <td>204 (37.7)</td>\n",
              "    </tr>\n",
              "    <tr>\n",
              "      <th rowspan=\"2\" valign=\"top\">ninety_day_mortality</th>\n",
              "      <th>0</th>\n",
              "      <td>0</td>\n",
              "      <td>350 (43.3)</td>\n",
              "      <td>322 (59.5)</td>\n",
              "    </tr>\n",
              "    <tr>\n",
              "      <th>1</th>\n",
              "      <td></td>\n",
              "      <td>459 (56.7)</td>\n",
              "      <td>219 (40.5)</td>\n",
              "    </tr>\n",
              "    <tr>\n",
              "      <th>icu_los_days</th>\n",
              "      <th></th>\n",
              "      <td>0</td>\n",
              "      <td>6.8 (5.4)</td>\n",
              "      <td>6.6 (5.5)</td>\n",
              "    </tr>\n",
              "    <tr>\n",
              "      <th>vent_duration_days</th>\n",
              "      <th></th>\n",
              "      <td>0</td>\n",
              "      <td>4.6 (4.6)</td>\n",
              "      <td>4.5 (4.1)</td>\n",
              "    </tr>\n",
              "    <tr>\n",
              "      <th>vent_free_days</th>\n",
              "      <th></th>\n",
              "      <td>0</td>\n",
              "      <td>9.1 (13.7)</td>\n",
              "      <td>8.4 (9.7)</td>\n",
              "    </tr>\n",
              "    <tr>\n",
              "      <th>hosp_los_days</th>\n",
              "      <th></th>\n",
              "      <td>0</td>\n",
              "      <td>13.6 (14.4)</td>\n",
              "      <td>12.9 (10.8)</td>\n",
              "    </tr>\n",
              "  </tbody>\n",
              "</table>\n",
              "</div>"
            ],
            "text/plain": [
              "                       Grouped by tbi                          \n",
              "                              Missing            0            1\n",
              "n                                              809          541\n",
              "icu_mortality        0              0   512 (63.3)   400 (73.9)\n",
              "                     1                  297 (36.7)   141 (26.1)\n",
              "hospital_mortality   0              0   408 (50.4)   346 (64.0)\n",
              "                     1                  401 (49.6)   195 (36.0)\n",
              "thirty_day_mortality 0              0   389 (48.1)   337 (62.3)\n",
              "                     1                  420 (51.9)   204 (37.7)\n",
              "ninety_day_mortality 0              0   350 (43.3)   322 (59.5)\n",
              "                     1                  459 (56.7)   219 (40.5)\n",
              "icu_los_days                        0    6.8 (5.4)    6.6 (5.5)\n",
              "vent_duration_days                  0    4.6 (4.6)    4.5 (4.1)\n",
              "vent_free_days                      0   9.1 (13.7)    8.4 (9.7)\n",
              "hosp_los_days                       0  13.6 (14.4)  12.9 (10.8)"
            ]
          },
          "metadata": {
            "tags": []
          },
          "execution_count": 64
        }
      ]
    },
    {
      "cell_type": "code",
      "metadata": {
        "id": "OQcwoebIbRZm",
        "colab_type": "code",
        "outputId": "77de4187-2dd4-4089-b71c-5da61f79ec2c",
        "colab": {
          "base_uri": "https://localhost:8080/",
          "height": 244
        }
      },
      "source": [
        "# install and import tableone\n",
        "!pip install tableone\n",
        "from tableone import TableOne"
      ],
      "execution_count": 0,
      "outputs": [
        {
          "output_type": "stream",
          "text": [
            "Collecting tableone\n",
            "  Downloading https://files.pythonhosted.org/packages/f2/72/df127c2b5b202fadf2db463783f419a441415399930ab106289d1b695eb5/tableone-0.6.6-py2.py3-none-any.whl\n",
            "Requirement already satisfied: pandas>=0.22.0 in /usr/local/lib/python3.6/dist-packages (from tableone) (0.25.3)\n",
            "Requirement already satisfied: numpy>=1.12.1 in /usr/local/lib/python3.6/dist-packages (from tableone) (1.17.5)\n",
            "Requirement already satisfied: tabulate>=0.8.2 in /usr/local/lib/python3.6/dist-packages (from tableone) (0.8.6)\n",
            "Requirement already satisfied: scipy>=0.18.1 in /usr/local/lib/python3.6/dist-packages (from tableone) (1.4.1)\n",
            "Requirement already satisfied: statsmodels>=0.8.0 in /usr/local/lib/python3.6/dist-packages (from tableone) (0.10.2)\n",
            "Requirement already satisfied: python-dateutil>=2.6.1 in /usr/local/lib/python3.6/dist-packages (from pandas>=0.22.0->tableone) (2.6.1)\n",
            "Requirement already satisfied: pytz>=2017.2 in /usr/local/lib/python3.6/dist-packages (from pandas>=0.22.0->tableone) (2018.9)\n",
            "Requirement already satisfied: patsy>=0.4.0 in /usr/local/lib/python3.6/dist-packages (from statsmodels>=0.8.0->tableone) (0.5.1)\n",
            "Requirement already satisfied: six>=1.5 in /usr/local/lib/python3.6/dist-packages (from python-dateutil>=2.6.1->pandas>=0.22.0->tableone) (1.12.0)\n",
            "Installing collected packages: tableone\n",
            "Successfully installed tableone-0.6.6\n"
          ],
          "name": "stdout"
        }
      ]
    },
    {
      "cell_type": "code",
      "metadata": {
        "id": "iGqTswwadrEm",
        "colab_type": "code",
        "colab": {}
      },
      "source": [
        "%%bigquery gcs\n",
        "\n",
        "select *\n",
        "from `sccm-datathon.team3.gcs`\n",
        "order by icustay_id"
      ],
      "execution_count": 0,
      "outputs": []
    },
    {
      "cell_type": "code",
      "metadata": {
        "id": "ubuJGNPbd6Od",
        "colab_type": "code",
        "outputId": "c76d165a-5058-4e51-e198-da7bd73c43e4",
        "colab": {
          "base_uri": "https://localhost:8080/",
          "height": 419
        }
      },
      "source": [
        "gcs"
      ],
      "execution_count": 0,
      "outputs": [
        {
          "output_type": "execute_result",
          "data": {
            "text/html": [
              "<div>\n",
              "<style scoped>\n",
              "    .dataframe tbody tr th:only-of-type {\n",
              "        vertical-align: middle;\n",
              "    }\n",
              "\n",
              "    .dataframe tbody tr th {\n",
              "        vertical-align: top;\n",
              "    }\n",
              "\n",
              "    .dataframe thead th {\n",
              "        text-align: right;\n",
              "    }\n",
              "</style>\n",
              "<table border=\"1\" class=\"dataframe\">\n",
              "  <thead>\n",
              "    <tr style=\"text-align: right;\">\n",
              "      <th></th>\n",
              "      <th>icustay_id</th>\n",
              "      <th>chartoffset</th>\n",
              "      <th>gcs</th>\n",
              "      <th>gcsmotor</th>\n",
              "      <th>gcsverbal</th>\n",
              "      <th>gcseyes</th>\n",
              "      <th>endotrachflag</th>\n",
              "    </tr>\n",
              "  </thead>\n",
              "  <tbody>\n",
              "    <tr>\n",
              "      <th>0</th>\n",
              "      <td>200019</td>\n",
              "      <td>-63</td>\n",
              "      <td>12.0</td>\n",
              "      <td>NaN</td>\n",
              "      <td>NaN</td>\n",
              "      <td>1.0</td>\n",
              "      <td>0</td>\n",
              "    </tr>\n",
              "    <tr>\n",
              "      <th>1</th>\n",
              "      <td>200019</td>\n",
              "      <td>-33</td>\n",
              "      <td>15.0</td>\n",
              "      <td>6.0</td>\n",
              "      <td>0.0</td>\n",
              "      <td>1.0</td>\n",
              "      <td>1</td>\n",
              "    </tr>\n",
              "    <tr>\n",
              "      <th>2</th>\n",
              "      <td>200019</td>\n",
              "      <td>-3</td>\n",
              "      <td>15.0</td>\n",
              "      <td>6.0</td>\n",
              "      <td>0.0</td>\n",
              "      <td>1.0</td>\n",
              "      <td>1</td>\n",
              "    </tr>\n",
              "    <tr>\n",
              "      <th>3</th>\n",
              "      <td>200019</td>\n",
              "      <td>117</td>\n",
              "      <td>15.0</td>\n",
              "      <td>6.0</td>\n",
              "      <td>0.0</td>\n",
              "      <td>1.0</td>\n",
              "      <td>1</td>\n",
              "    </tr>\n",
              "    <tr>\n",
              "      <th>4</th>\n",
              "      <td>200019</td>\n",
              "      <td>237</td>\n",
              "      <td>15.0</td>\n",
              "      <td>6.0</td>\n",
              "      <td>0.0</td>\n",
              "      <td>1.0</td>\n",
              "      <td>1</td>\n",
              "    </tr>\n",
              "    <tr>\n",
              "      <th>...</th>\n",
              "      <td>...</td>\n",
              "      <td>...</td>\n",
              "      <td>...</td>\n",
              "      <td>...</td>\n",
              "      <td>...</td>\n",
              "      <td>...</td>\n",
              "      <td>...</td>\n",
              "    </tr>\n",
              "    <tr>\n",
              "      <th>93218</th>\n",
              "      <td>299949</td>\n",
              "      <td>5298</td>\n",
              "      <td>14.0</td>\n",
              "      <td>6.0</td>\n",
              "      <td>5.0</td>\n",
              "      <td>3.0</td>\n",
              "      <td>0</td>\n",
              "    </tr>\n",
              "    <tr>\n",
              "      <th>93219</th>\n",
              "      <td>299949</td>\n",
              "      <td>5538</td>\n",
              "      <td>14.0</td>\n",
              "      <td>6.0</td>\n",
              "      <td>5.0</td>\n",
              "      <td>3.0</td>\n",
              "      <td>0</td>\n",
              "    </tr>\n",
              "    <tr>\n",
              "      <th>93220</th>\n",
              "      <td>299949</td>\n",
              "      <td>5658</td>\n",
              "      <td>14.0</td>\n",
              "      <td>6.0</td>\n",
              "      <td>5.0</td>\n",
              "      <td>3.0</td>\n",
              "      <td>0</td>\n",
              "    </tr>\n",
              "    <tr>\n",
              "      <th>93221</th>\n",
              "      <td>299949</td>\n",
              "      <td>5898</td>\n",
              "      <td>15.0</td>\n",
              "      <td>6.0</td>\n",
              "      <td>5.0</td>\n",
              "      <td>4.0</td>\n",
              "      <td>0</td>\n",
              "    </tr>\n",
              "    <tr>\n",
              "      <th>93222</th>\n",
              "      <td>299949</td>\n",
              "      <td>6138</td>\n",
              "      <td>15.0</td>\n",
              "      <td>6.0</td>\n",
              "      <td>5.0</td>\n",
              "      <td>4.0</td>\n",
              "      <td>0</td>\n",
              "    </tr>\n",
              "  </tbody>\n",
              "</table>\n",
              "<p>93223 rows × 7 columns</p>\n",
              "</div>"
            ],
            "text/plain": [
              "       icustay_id  chartoffset   gcs  ...  gcsverbal  gcseyes  endotrachflag\n",
              "0          200019          -63  12.0  ...        NaN      1.0              0\n",
              "1          200019          -33  15.0  ...        0.0      1.0              1\n",
              "2          200019           -3  15.0  ...        0.0      1.0              1\n",
              "3          200019          117  15.0  ...        0.0      1.0              1\n",
              "4          200019          237  15.0  ...        0.0      1.0              1\n",
              "...           ...          ...   ...  ...        ...      ...            ...\n",
              "93218      299949         5298  14.0  ...        5.0      3.0              0\n",
              "93219      299949         5538  14.0  ...        5.0      3.0              0\n",
              "93220      299949         5658  14.0  ...        5.0      3.0              0\n",
              "93221      299949         5898  15.0  ...        5.0      4.0              0\n",
              "93222      299949         6138  15.0  ...        5.0      4.0              0\n",
              "\n",
              "[93223 rows x 7 columns]"
            ]
          },
          "metadata": {
            "tags": []
          },
          "execution_count": 49
        }
      ]
    },
    {
      "cell_type": "code",
      "metadata": {
        "id": "YlTfAsWns1Dv",
        "colab_type": "code",
        "outputId": "df5d4445-4d12-4c18-b94f-ca84e6b893e7",
        "colab": {
          "base_uri": "https://localhost:8080/",
          "height": 34
        }
      },
      "source": [
        "gcs.icustay_id.iloc[2]"
      ],
      "execution_count": 0,
      "outputs": [
        {
          "output_type": "execute_result",
          "data": {
            "text/plain": [
              "200019"
            ]
          },
          "metadata": {
            "tags": []
          },
          "execution_count": 83
        }
      ]
    },
    {
      "cell_type": "code",
      "metadata": {
        "id": "46fqWykNPXpP",
        "colab_type": "code",
        "outputId": "9afc9216-ae21-4f10-fbc5-51ef0956095a",
        "colab": {
          "base_uri": "https://localhost:8080/",
          "height": 419
        }
      },
      "source": [
        "demo_final_2 = demo_final.reset_index().drop(['index'],axis=1)\n",
        "demo_final_2"
      ],
      "execution_count": 0,
      "outputs": [
        {
          "output_type": "execute_result",
          "data": {
            "text/html": [
              "<div>\n",
              "<style scoped>\n",
              "    .dataframe tbody tr th:only-of-type {\n",
              "        vertical-align: middle;\n",
              "    }\n",
              "\n",
              "    .dataframe tbody tr th {\n",
              "        vertical-align: top;\n",
              "    }\n",
              "\n",
              "    .dataframe thead th {\n",
              "        text-align: right;\n",
              "    }\n",
              "</style>\n",
              "<table border=\"1\" class=\"dataframe\">\n",
              "  <thead>\n",
              "    <tr style=\"text-align: right;\">\n",
              "      <th></th>\n",
              "      <th>icustay_id</th>\n",
              "      <th>tbi</th>\n",
              "      <th>stroke</th>\n",
              "      <th>icu_mortality</th>\n",
              "      <th>hospital_mortality</th>\n",
              "      <th>thirty_day_mortality</th>\n",
              "      <th>ninety_day_mortality</th>\n",
              "      <th>hosp_los_days</th>\n",
              "      <th>icu_los_days</th>\n",
              "      <th>vent_duration_days</th>\n",
              "      <th>vent_free_days</th>\n",
              "    </tr>\n",
              "  </thead>\n",
              "  <tbody>\n",
              "    <tr>\n",
              "      <th>0</th>\n",
              "      <td>200019</td>\n",
              "      <td>0</td>\n",
              "      <td>1</td>\n",
              "      <td>1</td>\n",
              "      <td>1</td>\n",
              "      <td>1</td>\n",
              "      <td>1</td>\n",
              "      <td>3.059708</td>\n",
              "      <td>3.059042</td>\n",
              "      <td>1.125000</td>\n",
              "      <td>1.934708</td>\n",
              "    </tr>\n",
              "    <tr>\n",
              "      <th>1</th>\n",
              "      <td>200166</td>\n",
              "      <td>0</td>\n",
              "      <td>1</td>\n",
              "      <td>0</td>\n",
              "      <td>0</td>\n",
              "      <td>0</td>\n",
              "      <td>0</td>\n",
              "      <td>26.360417</td>\n",
              "      <td>17.608333</td>\n",
              "      <td>3.479167</td>\n",
              "      <td>22.881250</td>\n",
              "    </tr>\n",
              "    <tr>\n",
              "      <th>2</th>\n",
              "      <td>200208</td>\n",
              "      <td>1</td>\n",
              "      <td>0</td>\n",
              "      <td>0</td>\n",
              "      <td>0</td>\n",
              "      <td>0</td>\n",
              "      <td>0</td>\n",
              "      <td>8.170125</td>\n",
              "      <td>6.379167</td>\n",
              "      <td>2.916667</td>\n",
              "      <td>5.253458</td>\n",
              "    </tr>\n",
              "    <tr>\n",
              "      <th>3</th>\n",
              "      <td>200249</td>\n",
              "      <td>0</td>\n",
              "      <td>1</td>\n",
              "      <td>0</td>\n",
              "      <td>0</td>\n",
              "      <td>0</td>\n",
              "      <td>1</td>\n",
              "      <td>20.751375</td>\n",
              "      <td>13.475000</td>\n",
              "      <td>8.958333</td>\n",
              "      <td>11.793042</td>\n",
              "    </tr>\n",
              "    <tr>\n",
              "      <th>4</th>\n",
              "      <td>200290</td>\n",
              "      <td>0</td>\n",
              "      <td>1</td>\n",
              "      <td>0</td>\n",
              "      <td>0</td>\n",
              "      <td>0</td>\n",
              "      <td>1</td>\n",
              "      <td>18.956958</td>\n",
              "      <td>17.038208</td>\n",
              "      <td>15.343056</td>\n",
              "      <td>3.613903</td>\n",
              "    </tr>\n",
              "    <tr>\n",
              "      <th>...</th>\n",
              "      <td>...</td>\n",
              "      <td>...</td>\n",
              "      <td>...</td>\n",
              "      <td>...</td>\n",
              "      <td>...</td>\n",
              "      <td>...</td>\n",
              "      <td>...</td>\n",
              "      <td>...</td>\n",
              "      <td>...</td>\n",
              "      <td>...</td>\n",
              "      <td>...</td>\n",
              "    </tr>\n",
              "    <tr>\n",
              "      <th>1345</th>\n",
              "      <td>299247</td>\n",
              "      <td>1</td>\n",
              "      <td>0</td>\n",
              "      <td>0</td>\n",
              "      <td>0</td>\n",
              "      <td>0</td>\n",
              "      <td>0</td>\n",
              "      <td>18.654875</td>\n",
              "      <td>12.821542</td>\n",
              "      <td>9.277778</td>\n",
              "      <td>9.377097</td>\n",
              "    </tr>\n",
              "    <tr>\n",
              "      <th>1346</th>\n",
              "      <td>299609</td>\n",
              "      <td>1</td>\n",
              "      <td>0</td>\n",
              "      <td>0</td>\n",
              "      <td>0</td>\n",
              "      <td>0</td>\n",
              "      <td>0</td>\n",
              "      <td>18.754167</td>\n",
              "      <td>4.013875</td>\n",
              "      <td>1.333333</td>\n",
              "      <td>17.420833</td>\n",
              "    </tr>\n",
              "    <tr>\n",
              "      <th>1347</th>\n",
              "      <td>299760</td>\n",
              "      <td>1</td>\n",
              "      <td>0</td>\n",
              "      <td>0</td>\n",
              "      <td>0</td>\n",
              "      <td>0</td>\n",
              "      <td>0</td>\n",
              "      <td>6.159042</td>\n",
              "      <td>1.532625</td>\n",
              "      <td>1.072917</td>\n",
              "      <td>5.086125</td>\n",
              "    </tr>\n",
              "    <tr>\n",
              "      <th>1348</th>\n",
              "      <td>299806</td>\n",
              "      <td>1</td>\n",
              "      <td>0</td>\n",
              "      <td>0</td>\n",
              "      <td>0</td>\n",
              "      <td>0</td>\n",
              "      <td>0</td>\n",
              "      <td>9.187500</td>\n",
              "      <td>4.402083</td>\n",
              "      <td>2.000000</td>\n",
              "      <td>7.187500</td>\n",
              "    </tr>\n",
              "    <tr>\n",
              "      <th>1349</th>\n",
              "      <td>299949</td>\n",
              "      <td>1</td>\n",
              "      <td>0</td>\n",
              "      <td>0</td>\n",
              "      <td>0</td>\n",
              "      <td>0</td>\n",
              "      <td>0</td>\n",
              "      <td>12.419458</td>\n",
              "      <td>4.377792</td>\n",
              "      <td>1.916667</td>\n",
              "      <td>10.502792</td>\n",
              "    </tr>\n",
              "  </tbody>\n",
              "</table>\n",
              "<p>1350 rows × 11 columns</p>\n",
              "</div>"
            ],
            "text/plain": [
              "      icustay_id  tbi  stroke  ...  icu_los_days  vent_duration_days  vent_free_days\n",
              "0         200019    0       1  ...      3.059042            1.125000        1.934708\n",
              "1         200166    0       1  ...     17.608333            3.479167       22.881250\n",
              "2         200208    1       0  ...      6.379167            2.916667        5.253458\n",
              "3         200249    0       1  ...     13.475000            8.958333       11.793042\n",
              "4         200290    0       1  ...     17.038208           15.343056        3.613903\n",
              "...          ...  ...     ...  ...           ...                 ...             ...\n",
              "1345      299247    1       0  ...     12.821542            9.277778        9.377097\n",
              "1346      299609    1       0  ...      4.013875            1.333333       17.420833\n",
              "1347      299760    1       0  ...      1.532625            1.072917        5.086125\n",
              "1348      299806    1       0  ...      4.402083            2.000000        7.187500\n",
              "1349      299949    1       0  ...      4.377792            1.916667       10.502792\n",
              "\n",
              "[1350 rows x 11 columns]"
            ]
          },
          "metadata": {
            "tags": []
          },
          "execution_count": 66
        }
      ]
    },
    {
      "cell_type": "code",
      "metadata": {
        "id": "buqqy20rqECk",
        "colab_type": "code",
        "colab": {}
      },
      "source": [
        "idd = gcs.icustay_id[0]\n",
        "n=1\n",
        "a=pd.DataFrame(np.zeros((len(demo_final_2),)),columns=['gcs_dis'])\n",
        "b=pd.DataFrame(np.zeros((len(demo_final_2),)), columns=['gcs_adm'])\n",
        "b['gcs_adm'][0]=gcs.gcsmotor[0]\n",
        "\n",
        "for i in range(len(gcs)):\n",
        "  if gcs.icustay_id[i] == idd:\n",
        "    idd = gcs.icustay_id[i]\n",
        "  else:\n",
        "    a['gcs_dis'][n-1] = gcs.gcsmotor[i-1]\n",
        "    b['gcs_adm'][n] = gcs.gcsmotor[i]\n",
        "    idd = gcs.icustay_id[i]\n",
        "    n+=1\n",
        "\n",
        "demo_final_3 = pd.concat([demo_final_2,a,b], axis=1)\n",
        "demo_final_3['gcs_dis_bool']=demo_final_3.gcs_dis==6\n",
        "demo_final_3['gcs_adm_bool']=demo_final_3.gcs_adm==6\n",
        "demo_final_3\n",
        "demo_final_3.to_csv('outcome_table_with_gcs_1350_2.csv')"
      ],
      "execution_count": 0,
      "outputs": []
    },
    {
      "cell_type": "code",
      "metadata": {
        "id": "b3TDaAqaYp5l",
        "colab_type": "code",
        "outputId": "d27778d3-36ae-4368-dff2-76ff2e85ab3c",
        "colab": {
          "base_uri": "https://localhost:8080/",
          "height": 607
        }
      },
      "source": [
        "columns = ['icu_mortality', 'hospital_mortality',\n",
        "       'thirty_day_mortality', 'ninety_day_mortality', 'icu_los_days',\n",
        "       'vent_duration_days', 'vent_free_days','hosp_los_days','gcs_dis_bool','gcs_adm_bool']\n",
        "\n",
        "groupby = 'tbi'\n",
        "\n",
        "pval = False\n",
        "\n",
        "categorical = ['icu_mortality', 'hospital_mortality',\n",
        "       'thirty_day_mortality', 'ninety_day_mortality','gcs_dis_bool','gcs_adm_bool']\n",
        "\n",
        "t = TableOne(demo_final_3, columns=columns, categorical=categorical, groupby=groupby, pval=pval)\n",
        "t.tableone"
      ],
      "execution_count": 0,
      "outputs": [
        {
          "output_type": "execute_result",
          "data": {
            "text/html": [
              "<div>\n",
              "<style scoped>\n",
              "    .dataframe tbody tr th:only-of-type {\n",
              "        vertical-align: middle;\n",
              "    }\n",
              "\n",
              "    .dataframe tbody tr th {\n",
              "        vertical-align: top;\n",
              "    }\n",
              "\n",
              "    .dataframe thead tr th {\n",
              "        text-align: left;\n",
              "    }\n",
              "</style>\n",
              "<table border=\"1\" class=\"dataframe\">\n",
              "  <thead>\n",
              "    <tr>\n",
              "      <th></th>\n",
              "      <th></th>\n",
              "      <th colspan=\"3\" halign=\"left\">Grouped by tbi</th>\n",
              "    </tr>\n",
              "    <tr>\n",
              "      <th></th>\n",
              "      <th></th>\n",
              "      <th>Missing</th>\n",
              "      <th>0</th>\n",
              "      <th>1</th>\n",
              "    </tr>\n",
              "  </thead>\n",
              "  <tbody>\n",
              "    <tr>\n",
              "      <th>n</th>\n",
              "      <th></th>\n",
              "      <td></td>\n",
              "      <td>809</td>\n",
              "      <td>541</td>\n",
              "    </tr>\n",
              "    <tr>\n",
              "      <th rowspan=\"2\" valign=\"top\">icu_mortality</th>\n",
              "      <th>0</th>\n",
              "      <td>0</td>\n",
              "      <td>512 (63.3)</td>\n",
              "      <td>400 (73.9)</td>\n",
              "    </tr>\n",
              "    <tr>\n",
              "      <th>1</th>\n",
              "      <td></td>\n",
              "      <td>297 (36.7)</td>\n",
              "      <td>141 (26.1)</td>\n",
              "    </tr>\n",
              "    <tr>\n",
              "      <th rowspan=\"2\" valign=\"top\">hospital_mortality</th>\n",
              "      <th>0</th>\n",
              "      <td>0</td>\n",
              "      <td>408 (50.4)</td>\n",
              "      <td>346 (64.0)</td>\n",
              "    </tr>\n",
              "    <tr>\n",
              "      <th>1</th>\n",
              "      <td></td>\n",
              "      <td>401 (49.6)</td>\n",
              "      <td>195 (36.0)</td>\n",
              "    </tr>\n",
              "    <tr>\n",
              "      <th rowspan=\"2\" valign=\"top\">thirty_day_mortality</th>\n",
              "      <th>0</th>\n",
              "      <td>0</td>\n",
              "      <td>389 (48.1)</td>\n",
              "      <td>337 (62.3)</td>\n",
              "    </tr>\n",
              "    <tr>\n",
              "      <th>1</th>\n",
              "      <td></td>\n",
              "      <td>420 (51.9)</td>\n",
              "      <td>204 (37.7)</td>\n",
              "    </tr>\n",
              "    <tr>\n",
              "      <th rowspan=\"2\" valign=\"top\">ninety_day_mortality</th>\n",
              "      <th>0</th>\n",
              "      <td>0</td>\n",
              "      <td>350 (43.3)</td>\n",
              "      <td>322 (59.5)</td>\n",
              "    </tr>\n",
              "    <tr>\n",
              "      <th>1</th>\n",
              "      <td></td>\n",
              "      <td>459 (56.7)</td>\n",
              "      <td>219 (40.5)</td>\n",
              "    </tr>\n",
              "    <tr>\n",
              "      <th>icu_los_days</th>\n",
              "      <th></th>\n",
              "      <td>0</td>\n",
              "      <td>6.8 (5.4)</td>\n",
              "      <td>6.6 (5.5)</td>\n",
              "    </tr>\n",
              "    <tr>\n",
              "      <th>vent_duration_days</th>\n",
              "      <th></th>\n",
              "      <td>0</td>\n",
              "      <td>4.6 (4.6)</td>\n",
              "      <td>4.5 (4.1)</td>\n",
              "    </tr>\n",
              "    <tr>\n",
              "      <th>vent_free_days</th>\n",
              "      <th></th>\n",
              "      <td>0</td>\n",
              "      <td>9.1 (13.7)</td>\n",
              "      <td>8.4 (9.7)</td>\n",
              "    </tr>\n",
              "    <tr>\n",
              "      <th>hosp_los_days</th>\n",
              "      <th></th>\n",
              "      <td>0</td>\n",
              "      <td>13.6 (14.4)</td>\n",
              "      <td>12.9 (10.8)</td>\n",
              "    </tr>\n",
              "    <tr>\n",
              "      <th rowspan=\"2\" valign=\"top\">gcs_dis_bool</th>\n",
              "      <th>False</th>\n",
              "      <td>0</td>\n",
              "      <td>466 (57.6)</td>\n",
              "      <td>275 (50.8)</td>\n",
              "    </tr>\n",
              "    <tr>\n",
              "      <th>True</th>\n",
              "      <td></td>\n",
              "      <td>343 (42.4)</td>\n",
              "      <td>266 (49.2)</td>\n",
              "    </tr>\n",
              "    <tr>\n",
              "      <th rowspan=\"2\" valign=\"top\">gcs_adm_bool</th>\n",
              "      <th>False</th>\n",
              "      <td>0</td>\n",
              "      <td>677 (83.7)</td>\n",
              "      <td>459 (84.8)</td>\n",
              "    </tr>\n",
              "    <tr>\n",
              "      <th>True</th>\n",
              "      <td></td>\n",
              "      <td>132 (16.3)</td>\n",
              "      <td>82 (15.2)</td>\n",
              "    </tr>\n",
              "  </tbody>\n",
              "</table>\n",
              "</div>"
            ],
            "text/plain": [
              "                           Grouped by tbi                          \n",
              "                                  Missing            0            1\n",
              "n                                                  809          541\n",
              "icu_mortality        0                  0   512 (63.3)   400 (73.9)\n",
              "                     1                      297 (36.7)   141 (26.1)\n",
              "hospital_mortality   0                  0   408 (50.4)   346 (64.0)\n",
              "                     1                      401 (49.6)   195 (36.0)\n",
              "thirty_day_mortality 0                  0   389 (48.1)   337 (62.3)\n",
              "                     1                      420 (51.9)   204 (37.7)\n",
              "ninety_day_mortality 0                  0   350 (43.3)   322 (59.5)\n",
              "                     1                      459 (56.7)   219 (40.5)\n",
              "icu_los_days                            0    6.8 (5.4)    6.6 (5.5)\n",
              "vent_duration_days                      0    4.6 (4.6)    4.5 (4.1)\n",
              "vent_free_days                          0   9.1 (13.7)    8.4 (9.7)\n",
              "hosp_los_days                           0  13.6 (14.4)  12.9 (10.8)\n",
              "gcs_dis_bool         False              0   466 (57.6)   275 (50.8)\n",
              "                     True                   343 (42.4)   266 (49.2)\n",
              "gcs_adm_bool         False              0   677 (83.7)   459 (84.8)\n",
              "                     True                   132 (16.3)    82 (15.2)"
            ]
          },
          "metadata": {
            "tags": []
          },
          "execution_count": 69
        }
      ]
    },
    {
      "cell_type": "code",
      "metadata": {
        "id": "VjQNeG70bCh6",
        "colab_type": "code",
        "outputId": "3a862939-d318-4066-fd1e-088e84c3f4af",
        "colab": {
          "base_uri": "https://localhost:8080/",
          "height": 173
        }
      },
      "source": [
        "columns = ['gcs_dis_bool']\n",
        "groupby = 'hospital_mortality'\n",
        "pval = False\n",
        "categorical = ['gcs_dis_bool']\n",
        "t=TableOne(demo_final_3,columns=columns, categorical=categorical,groupby=groupby,pval=pval)\n",
        "t.tableone"
      ],
      "execution_count": 0,
      "outputs": [
        {
          "output_type": "execute_result",
          "data": {
            "text/html": [
              "<div>\n",
              "<style scoped>\n",
              "    .dataframe tbody tr th:only-of-type {\n",
              "        vertical-align: middle;\n",
              "    }\n",
              "\n",
              "    .dataframe tbody tr th {\n",
              "        vertical-align: top;\n",
              "    }\n",
              "\n",
              "    .dataframe thead tr th {\n",
              "        text-align: left;\n",
              "    }\n",
              "</style>\n",
              "<table border=\"1\" class=\"dataframe\">\n",
              "  <thead>\n",
              "    <tr>\n",
              "      <th></th>\n",
              "      <th></th>\n",
              "      <th colspan=\"3\" halign=\"left\">Grouped by hospital_mortality</th>\n",
              "    </tr>\n",
              "    <tr>\n",
              "      <th></th>\n",
              "      <th></th>\n",
              "      <th>Missing</th>\n",
              "      <th>0</th>\n",
              "      <th>1</th>\n",
              "    </tr>\n",
              "  </thead>\n",
              "  <tbody>\n",
              "    <tr>\n",
              "      <th>n</th>\n",
              "      <th></th>\n",
              "      <td></td>\n",
              "      <td>754</td>\n",
              "      <td>596</td>\n",
              "    </tr>\n",
              "    <tr>\n",
              "      <th rowspan=\"2\" valign=\"top\">gcs_dis_bool</th>\n",
              "      <th>False</th>\n",
              "      <td>0</td>\n",
              "      <td>186 (24.7)</td>\n",
              "      <td>555 (93.1)</td>\n",
              "    </tr>\n",
              "    <tr>\n",
              "      <th>True</th>\n",
              "      <td></td>\n",
              "      <td>568 (75.3)</td>\n",
              "      <td>41 (6.9)</td>\n",
              "    </tr>\n",
              "  </tbody>\n",
              "</table>\n",
              "</div>"
            ],
            "text/plain": [
              "                   Grouped by hospital_mortality                        \n",
              "                                         Missing           0           1\n",
              "n                                                        754         596\n",
              "gcs_dis_bool False                             0  186 (24.7)  555 (93.1)\n",
              "             True                                 568 (75.3)    41 (6.9)"
            ]
          },
          "metadata": {
            "tags": []
          },
          "execution_count": 70
        }
      ]
    },
    {
      "cell_type": "code",
      "metadata": {
        "id": "ouWxk3X3f_ne",
        "colab_type": "code",
        "colab": {}
      },
      "source": [
        "columns = ['hospital_mortality']\n",
        "groupby = 'gcs_dis_bool'\n",
        "pval = False\n",
        "categorical = ['hospital_mortality']\n",
        "t=TableOne(demo_final_3,columns=columns, categorical=categorical,groupby=groupby,pval=pval)\n",
        "t.tableone"
      ],
      "execution_count": 0,
      "outputs": []
    },
    {
      "cell_type": "code",
      "metadata": {
        "id": "IlQ5--rSKd_d",
        "colab_type": "code",
        "outputId": "7482c5ef-38be-4114-e144-8fb6054ccd86",
        "colab": {
          "base_uri": "https://localhost:8080/",
          "height": 405
        }
      },
      "source": [
        "n, bins, patches = plt.hist(x=demo_final_3.gcs_dis, bins='auto', color='#0504aa',\n",
        "                            alpha=0.7, rwidth=0.85)"
      ],
      "execution_count": 74,
      "outputs": [
        {
          "output_type": "stream",
          "text": [
            "/usr/local/lib/python3.6/dist-packages/numpy/lib/histograms.py:403: RuntimeWarning: invalid value encountered in greater_equal\n",
            "  keep = (a >= first_edge)\n",
            "/usr/local/lib/python3.6/dist-packages/numpy/lib/histograms.py:404: RuntimeWarning: invalid value encountered in less_equal\n",
            "  keep &= (a <= last_edge)\n",
            "/usr/local/lib/python3.6/dist-packages/numpy/lib/histograms.py:839: RuntimeWarning: invalid value encountered in greater_equal\n",
            "  keep = (tmp_a >= first_edge)\n",
            "/usr/local/lib/python3.6/dist-packages/numpy/lib/histograms.py:840: RuntimeWarning: invalid value encountered in less_equal\n",
            "  keep &= (tmp_a <= last_edge)\n"
          ],
          "name": "stderr"
        },
        {
          "output_type": "display_data",
          "data": {
            "image/png": "[encoded data removed]",
            "text/plain": [
              "<Figure size 432x288 with 1 Axes>"
            ]
          },
          "metadata": {
            "tags": []
          }
        }
      ]
    },
    {
      "cell_type": "code",
      "metadata": {
        "id": "BAt9bnmiL5ox",
        "colab_type": "code",
        "colab": {
          "base_uri": "https://localhost:8080/",
          "height": 439
        },
        "outputId": "db02566f-cc02-40fa-b51a-0cc703c1dcda"
      },
      "source": [
        "idd = gcs.icustay_id[0]\n",
        "n=1\n",
        "a=pd.DataFrame(np.zeros((len(demo_final_2),)),columns=['gcs_dis'])\n",
        "b=pd.DataFrame(np.zeros((len(demo_final_2),)), columns=['gcs_adm'])\n",
        "c=pd.DataFrame(np.zeros((len(demo_final_2),)), columns = ['gcs_total_dis'])\n",
        "b['gcs_adm'][0]=gcs.gcsmotor[0]\n",
        "\n",
        "for i in range(len(gcs)):\n",
        "  if gcs.icustay_id[i] == idd:\n",
        "    idd = gcs.icustay_id[i]\n",
        "  else:\n",
        "    a['gcs_dis'][n-1] = gcs.gcsmotor[i-1]\n",
        "    c['gcs_total_dis'][n-1] = gcs.gcs[i-1]\n",
        "    b['gcs_adm'][n] = gcs.gcsmotor[i]\n",
        "    idd = gcs.icustay_id[i]\n",
        "    n+=1\n",
        "\n",
        "demo_final_4 = pd.concat([demo_final_2,a,b,c], axis=1)\n",
        "demo_final_4['gcs_dis_bool']=demo_final_3.gcs_dis==6\n",
        "demo_final_4['gcs_adm_bool']=demo_final_3.gcs_adm==6\n",
        "demo_final_4"
      ],
      "execution_count": 77,
      "outputs": [
        {
          "output_type": "execute_result",
          "data": {
            "text/html": [
              "<div>\n",
              "<style scoped>\n",
              "    .dataframe tbody tr th:only-of-type {\n",
              "        vertical-align: middle;\n",
              "    }\n",
              "\n",
              "    .dataframe tbody tr th {\n",
              "        vertical-align: top;\n",
              "    }\n",
              "\n",
              "    .dataframe thead th {\n",
              "        text-align: right;\n",
              "    }\n",
              "</style>\n",
              "<table border=\"1\" class=\"dataframe\">\n",
              "  <thead>\n",
              "    <tr style=\"text-align: right;\">\n",
              "      <th></th>\n",
              "      <th>icustay_id</th>\n",
              "      <th>tbi</th>\n",
              "      <th>stroke</th>\n",
              "      <th>icu_mortality</th>\n",
              "      <th>hospital_mortality</th>\n",
              "      <th>thirty_day_mortality</th>\n",
              "      <th>ninety_day_mortality</th>\n",
              "      <th>hosp_los_days</th>\n",
              "      <th>icu_los_days</th>\n",
              "      <th>vent_duration_days</th>\n",
              "      <th>vent_free_days</th>\n",
              "      <th>gcs_dis</th>\n",
              "      <th>gcs_adm</th>\n",
              "      <th>gcs_total_dis</th>\n",
              "      <th>gcs_dis_bool</th>\n",
              "      <th>gcs_adm_bool</th>\n",
              "    </tr>\n",
              "  </thead>\n",
              "  <tbody>\n",
              "    <tr>\n",
              "      <th>0</th>\n",
              "      <td>200019</td>\n",
              "      <td>0</td>\n",
              "      <td>1</td>\n",
              "      <td>1</td>\n",
              "      <td>1</td>\n",
              "      <td>1</td>\n",
              "      <td>1</td>\n",
              "      <td>3.059708</td>\n",
              "      <td>3.059042</td>\n",
              "      <td>1.125000</td>\n",
              "      <td>1.934708</td>\n",
              "      <td>4.0</td>\n",
              "      <td>NaN</td>\n",
              "      <td>7.0</td>\n",
              "      <td>False</td>\n",
              "      <td>False</td>\n",
              "    </tr>\n",
              "    <tr>\n",
              "      <th>1</th>\n",
              "      <td>200166</td>\n",
              "      <td>0</td>\n",
              "      <td>1</td>\n",
              "      <td>0</td>\n",
              "      <td>0</td>\n",
              "      <td>0</td>\n",
              "      <td>0</td>\n",
              "      <td>26.360417</td>\n",
              "      <td>17.608333</td>\n",
              "      <td>3.479167</td>\n",
              "      <td>22.881250</td>\n",
              "      <td>6.0</td>\n",
              "      <td>3.0</td>\n",
              "      <td>15.0</td>\n",
              "      <td>True</td>\n",
              "      <td>False</td>\n",
              "    </tr>\n",
              "    <tr>\n",
              "      <th>2</th>\n",
              "      <td>200208</td>\n",
              "      <td>1</td>\n",
              "      <td>0</td>\n",
              "      <td>0</td>\n",
              "      <td>0</td>\n",
              "      <td>0</td>\n",
              "      <td>0</td>\n",
              "      <td>8.170125</td>\n",
              "      <td>6.379167</td>\n",
              "      <td>2.916667</td>\n",
              "      <td>5.253458</td>\n",
              "      <td>6.0</td>\n",
              "      <td>5.0</td>\n",
              "      <td>13.0</td>\n",
              "      <td>True</td>\n",
              "      <td>False</td>\n",
              "    </tr>\n",
              "    <tr>\n",
              "      <th>3</th>\n",
              "      <td>200249</td>\n",
              "      <td>0</td>\n",
              "      <td>1</td>\n",
              "      <td>0</td>\n",
              "      <td>0</td>\n",
              "      <td>0</td>\n",
              "      <td>1</td>\n",
              "      <td>20.751375</td>\n",
              "      <td>13.475000</td>\n",
              "      <td>8.958333</td>\n",
              "      <td>11.793042</td>\n",
              "      <td>5.0</td>\n",
              "      <td>6.0</td>\n",
              "      <td>15.0</td>\n",
              "      <td>False</td>\n",
              "      <td>True</td>\n",
              "    </tr>\n",
              "    <tr>\n",
              "      <th>4</th>\n",
              "      <td>200290</td>\n",
              "      <td>0</td>\n",
              "      <td>1</td>\n",
              "      <td>0</td>\n",
              "      <td>0</td>\n",
              "      <td>0</td>\n",
              "      <td>1</td>\n",
              "      <td>18.956958</td>\n",
              "      <td>17.038208</td>\n",
              "      <td>15.343056</td>\n",
              "      <td>3.613903</td>\n",
              "      <td>4.0</td>\n",
              "      <td>1.0</td>\n",
              "      <td>15.0</td>\n",
              "      <td>False</td>\n",
              "      <td>False</td>\n",
              "    </tr>\n",
              "    <tr>\n",
              "      <th>...</th>\n",
              "      <td>...</td>\n",
              "      <td>...</td>\n",
              "      <td>...</td>\n",
              "      <td>...</td>\n",
              "      <td>...</td>\n",
              "      <td>...</td>\n",
              "      <td>...</td>\n",
              "      <td>...</td>\n",
              "      <td>...</td>\n",
              "      <td>...</td>\n",
              "      <td>...</td>\n",
              "      <td>...</td>\n",
              "      <td>...</td>\n",
              "      <td>...</td>\n",
              "      <td>...</td>\n",
              "      <td>...</td>\n",
              "    </tr>\n",
              "    <tr>\n",
              "      <th>1345</th>\n",
              "      <td>299247</td>\n",
              "      <td>1</td>\n",
              "      <td>0</td>\n",
              "      <td>0</td>\n",
              "      <td>0</td>\n",
              "      <td>0</td>\n",
              "      <td>0</td>\n",
              "      <td>18.654875</td>\n",
              "      <td>12.821542</td>\n",
              "      <td>9.277778</td>\n",
              "      <td>9.377097</td>\n",
              "      <td>6.0</td>\n",
              "      <td>4.0</td>\n",
              "      <td>15.0</td>\n",
              "      <td>True</td>\n",
              "      <td>False</td>\n",
              "    </tr>\n",
              "    <tr>\n",
              "      <th>1346</th>\n",
              "      <td>299609</td>\n",
              "      <td>1</td>\n",
              "      <td>0</td>\n",
              "      <td>0</td>\n",
              "      <td>0</td>\n",
              "      <td>0</td>\n",
              "      <td>0</td>\n",
              "      <td>18.754167</td>\n",
              "      <td>4.013875</td>\n",
              "      <td>1.333333</td>\n",
              "      <td>17.420833</td>\n",
              "      <td>6.0</td>\n",
              "      <td>5.0</td>\n",
              "      <td>14.0</td>\n",
              "      <td>True</td>\n",
              "      <td>False</td>\n",
              "    </tr>\n",
              "    <tr>\n",
              "      <th>1347</th>\n",
              "      <td>299760</td>\n",
              "      <td>1</td>\n",
              "      <td>0</td>\n",
              "      <td>0</td>\n",
              "      <td>0</td>\n",
              "      <td>0</td>\n",
              "      <td>0</td>\n",
              "      <td>6.159042</td>\n",
              "      <td>1.532625</td>\n",
              "      <td>1.072917</td>\n",
              "      <td>5.086125</td>\n",
              "      <td>6.0</td>\n",
              "      <td>6.0</td>\n",
              "      <td>15.0</td>\n",
              "      <td>True</td>\n",
              "      <td>True</td>\n",
              "    </tr>\n",
              "    <tr>\n",
              "      <th>1348</th>\n",
              "      <td>299806</td>\n",
              "      <td>1</td>\n",
              "      <td>0</td>\n",
              "      <td>0</td>\n",
              "      <td>0</td>\n",
              "      <td>0</td>\n",
              "      <td>0</td>\n",
              "      <td>9.187500</td>\n",
              "      <td>4.402083</td>\n",
              "      <td>2.000000</td>\n",
              "      <td>7.187500</td>\n",
              "      <td>6.0</td>\n",
              "      <td>1.0</td>\n",
              "      <td>13.0</td>\n",
              "      <td>True</td>\n",
              "      <td>False</td>\n",
              "    </tr>\n",
              "    <tr>\n",
              "      <th>1349</th>\n",
              "      <td>299949</td>\n",
              "      <td>1</td>\n",
              "      <td>0</td>\n",
              "      <td>0</td>\n",
              "      <td>0</td>\n",
              "      <td>0</td>\n",
              "      <td>0</td>\n",
              "      <td>12.419458</td>\n",
              "      <td>4.377792</td>\n",
              "      <td>1.916667</td>\n",
              "      <td>10.502792</td>\n",
              "      <td>0.0</td>\n",
              "      <td>4.0</td>\n",
              "      <td>0.0</td>\n",
              "      <td>False</td>\n",
              "      <td>False</td>\n",
              "    </tr>\n",
              "  </tbody>\n",
              "</table>\n",
              "<p>1350 rows × 16 columns</p>\n",
              "</div>"
            ],
            "text/plain": [
              "      icustay_id  tbi  stroke  ...  gcs_total_dis  gcs_dis_bool  gcs_adm_bool\n",
              "0         200019    0       1  ...            7.0         False         False\n",
              "1         200166    0       1  ...           15.0          True         False\n",
              "2         200208    1       0  ...           13.0          True         False\n",
              "3         200249    0       1  ...           15.0         False          True\n",
              "4         200290    0       1  ...           15.0         False         False\n",
              "...          ...  ...     ...  ...            ...           ...           ...\n",
              "1345      299247    1       0  ...           15.0          True         False\n",
              "1346      299609    1       0  ...           14.0          True         False\n",
              "1347      299760    1       0  ...           15.0          True          True\n",
              "1348      299806    1       0  ...           13.0          True         False\n",
              "1349      299949    1       0  ...            0.0         False         False\n",
              "\n",
              "[1350 rows x 16 columns]"
            ]
          },
          "metadata": {
            "tags": []
          },
          "execution_count": 77
        }
      ]
    },
    {
      "cell_type": "code",
      "metadata": {
        "id": "MVhzsZSPN08_",
        "colab_type": "code",
        "colab": {
          "base_uri": "https://localhost:8080/",
          "height": 265
        },
        "outputId": "bf5542a5-99aa-4134-bee3-02c70078849b"
      },
      "source": [
        "n, bins, patches = plt.hist(x=demo_final_4.gcs_total_dis, bins='auto', color='#0504aa',\n",
        "                            alpha=0.7, rwidth=0.85)"
      ],
      "execution_count": 79,
      "outputs": [
        {
          "output_type": "display_data",
          "data": {
            "image/png": "[encoded data removed]",
            "text/plain": [
              "<Figure size 432x288 with 1 Axes>"
            ]
          },
          "metadata": {
            "tags": []
          }
        }
      ]
    },
    {
      "cell_type": "code",
      "metadata": {
        "id": "zqjOtEJJSFrp",
        "colab_type": "code",
        "colab": {}
      },
      "source": [
        "dist.plot.kde(ax=ax, legend=False, title='Histogram: A vs. B')\n",
        "dist.plot.hist(density=True, ax=ax)\n",
        "ax.set_ylabel('Probability')\n",
        "ax.grid(axis='y')\n",
        "ax.set_facecolor('#d8dcd6')"
      ],
      "execution_count": 0,
      "outputs": []
    }
  ]
}